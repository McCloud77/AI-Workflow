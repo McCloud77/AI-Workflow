{
 "cells": [
  {
   "cell_type": "markdown",
   "metadata": {},
   "source": [
    "## Sparse Matrices."
   ]
  },
  {
   "cell_type": "markdown",
   "metadata": {},
   "source": [
    "Once a well-trained machine learning model has been deployed, the data ingestion pipeline for that model will also be deployed. That pipeline will consist of a collection of tools and systems used to fetch, transform, and feed data to the machine learning system in production.\n",
    "\n",
    "However, that pipeline cannot be finalized during the development of the machine learning model it feeds. Finalizing the process of data ingestion before models have been run and your hypotheses about the business use case have been tested often leads to lots of re-work. Early experiments almost always fail and you should be careful about investing large amounts of time in building a data ingestion pipeline until there is enough accumulated evidence that a deployed model will help the business.\n",
    "\n",
    "Instead of building a complete data ingestion pipeline, data scientists will often use sparse matrices during the development and testing of a machine learning model. Sparse matrices are used to represent complex sets of data (e.g., word counts) in a way that reduces the use of computer memory and processing time."
   ]
  },
  {
   "cell_type": "code",
   "execution_count": 1,
   "metadata": {},
   "outputs": [],
   "source": [
    "import numpy as np\n",
    "from scipy import sparse"
   ]
  },
  {
   "cell_type": "markdown",
   "metadata": {},
   "source": [
    "A sparse matrix is one in which most of the values are zero. If the number of zero-valued elements divided by the size of the matrix is greater than 0.5 then it is consider sparse."
   ]
  },
  {
   "cell_type": "code",
   "execution_count": 2,
   "metadata": {},
   "outputs": [
    {
     "name": "stdout",
     "output_type": "stream",
     "text": [
      "0.5015\n"
     ]
    }
   ],
   "source": [
    "A = np.random.randint(0,2,100000).reshape(100,1000)\n",
    "sparcity = 1.0 - (np.count_nonzero(A) / A.size)\n",
    "print(round(sparcity,4))"
   ]
  },
  {
   "cell_type": "markdown",
   "metadata": {},
   "source": [
    "**!! Many of the common functions like np.dot do not work on sparse matrices.**"
   ]
  },
  {
   "cell_type": "markdown",
   "metadata": {},
   "source": [
    "The most commonly used sparse matrices include a `coo_matrix` which is a sparse matrix built from the `COO`rdinates and values of the non-zero entries.  \n",
    "When there are repeated entries in the rows or cols, we can remove the redundancy by indicating the location of the first occurrence of a value and its increment instead of the full coordinates. When the repeats occur in colums we use a `CSC` format.  \n",
    "Like the `CSC` format there is a `CSR` format to account for data that repeat along the rows."
   ]
  },
  {
   "cell_type": "code",
   "execution_count": 3,
   "metadata": {},
   "outputs": [
    {
     "name": "stdout",
     "output_type": "stream",
     "text": [
      "A <class 'numpy.ndarray'> (10, 100) \n",
      "B <class 'scipy.sparse.coo.coo_matrix'> (10, 100) \n",
      "C <class 'numpy.matrix'> (10, 100) \n",
      "\n"
     ]
    }
   ],
   "source": [
    "# Generate a 10 by 100 matrix with random values from a Poisson distribution\n",
    "A = np.random.poisson(0.3, (10,100))\n",
    "B = sparse.coo_matrix(A)\n",
    "C = B.todense()\n",
    "\n",
    "print(\"A\",type(A),A.shape,\"\\n\"\n",
    "      \"B\",type(B),B.shape,\"\\n\"\n",
    "      \"C\",type(C),C.shape,\"\\n\")"
   ]
  },
  {
   "cell_type": "code",
   "execution_count": 4,
   "metadata": {},
   "outputs": [
    {
     "name": "stdout",
     "output_type": "stream",
     "text": [
      "[[0 0 1 0 0 0 0 0 0 0 0 1 0 0 0 0 0 0 0 2 0 1 1 0 0 1 0 0 0 0 0 0 0 0 0 0\n",
      "  0 0 1 0 0 0 0 0 0 0 0 0 1 0 1 0 0 0 0 1 0 0 0 1 0 2 0 0 2 2 0 1 3 0 0 0\n",
      "  0 0 1 1 0 0 0 0 0 0 1 0 0 0 1 0 0 0 0 0 0 0 1 0 0 0 1 0]\n",
      " [0 0 0 0 0 0 0 1 0 0 1 2 0 0 0 0 0 0 1 0 1 0 0 0 0 0 0 0 0 1 0 0 1 1 0 1\n",
      "  0 1 0 0 0 2 2 2 0 0 0 0 0 0 0 1 0 1 2 0 0 0 0 0 0 0 0 0 1 0 0 1 0 0 0 0\n",
      "  2 0 0 1 0 1 0 1 1 0 0 0 0 0 0 0 0 0 0 2 0 0 0 0 0 0 1 0]]\n"
     ]
    }
   ],
   "source": [
    "print(A[:2])"
   ]
  },
  {
   "cell_type": "markdown",
   "metadata": {},
   "source": [
    "Because the coordinate format is easier to create, it is common to create it first then cast to another more efficient format. Let us first show how to create a matrix from coordinates:"
   ]
  },
  {
   "cell_type": "code",
   "execution_count": 5,
   "metadata": {},
   "outputs": [],
   "source": [
    "rows = [0,1,2,8]\n",
    "cols = [1,0,4,8]\n",
    "vals = [1,2,1,4]\n",
    "\n",
    "A = sparse.coo_matrix((vals, (rows, cols)))"
   ]
  },
  {
   "cell_type": "markdown",
   "metadata": {},
   "source": [
    "Then to cast it to a CSR matrix:"
   ]
  },
  {
   "cell_type": "code",
   "execution_count": 6,
   "metadata": {},
   "outputs": [],
   "source": [
    "B = A.tocsr()"
   ]
  },
  {
   "cell_type": "code",
   "execution_count": 7,
   "metadata": {},
   "outputs": [
    {
     "name": "stdout",
     "output_type": "stream",
     "text": [
      "  (0, 1)\t1\n",
      "  (1, 0)\t2\n",
      "  (2, 4)\t1\n",
      "  (8, 8)\t4\n"
     ]
    }
   ],
   "source": [
    "print(B)"
   ]
  },
  {
   "cell_type": "markdown",
   "metadata": {},
   "source": [
    "Because this introduction to sparse matrices is applied to data ingestion we would need to be able to:\n",
    "\n",
    "- concatenate matrices (e.g., add a new user to a recommender matrix)\n",
    "- read and write the matrices to and from disk"
   ]
  },
  {
   "cell_type": "code",
   "execution_count": 8,
   "metadata": {},
   "outputs": [
    {
     "name": "stdout",
     "output_type": "stream",
     "text": [
      "[[0 1 0 0 0 0 0 0 0]\n",
      " [2 0 0 0 0 0 0 0 0]\n",
      " [0 0 0 0 1 0 0 0 0]\n",
      " [0 0 0 0 0 0 0 0 0]\n",
      " [0 0 0 0 0 0 0 0 0]\n",
      " [0 0 0 0 0 0 0 0 0]\n",
      " [0 0 0 0 0 0 0 0 0]\n",
      " [0 0 0 0 0 0 0 0 0]\n",
      " [0 0 0 0 0 0 0 0 4]\n",
      " [0 1 0 0 2 0 0 0 1]]\n"
     ]
    }
   ],
   "source": [
    "## matrix merge example\n",
    "C = sparse.csr_matrix(np.array([0,1,0,0,2,0,0,0,1]).reshape(1,9))\n",
    "D = sparse.vstack([B,C])\n",
    "print(D.todense())"
   ]
  },
  {
   "cell_type": "code",
   "execution_count": 9,
   "metadata": {},
   "outputs": [
    {
     "name": "stdout",
     "output_type": "stream",
     "text": [
      "Shape of original matrix: (9, 9)\n",
      "Shape of CSR matrix: (1, 9)\n",
      "Shape of stacked matrix: (10, 9)\n"
     ]
    }
   ],
   "source": [
    "print(\"Shape of original matrix:\", B.shape)\n",
    "print(\"Shape of CSR matrix:\", C.shape)\n",
    "print(\"Shape of stacked matrix:\", D.shape)"
   ]
  },
  {
   "cell_type": "code",
   "execution_count": null,
   "metadata": {},
   "outputs": [],
   "source": []
  }
 ],
 "metadata": {
  "kernelspec": {
   "display_name": "Python 3",
   "language": "python",
   "name": "python3"
  },
  "language_info": {
   "codemirror_mode": {
    "name": "ipython",
    "version": 3
   },
   "file_extension": ".py",
   "mimetype": "text/x-python",
   "name": "python",
   "nbconvert_exporter": "python",
   "pygments_lexer": "ipython3",
   "version": "3.6.5"
  }
 },
 "nbformat": 4,
 "nbformat_minor": 4
}

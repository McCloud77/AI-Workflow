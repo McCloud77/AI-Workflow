{
 "cells": [
  {
   "cell_type": "markdown",
   "metadata": {
    "slideshow": {
     "slide_type": "slide"
    }
   },
   "source": [
    "### Case Study - Data visualization."
   ]
  },
  {
   "cell_type": "markdown",
   "metadata": {
    "slideshow": {
     "slide_type": "slide"
    }
   },
   "source": [
    "## Objectives\n",
    "\n",
    "We are trying to identify factors that contribute to the unique market situation in Singapore. Singapore has a higher rate of churn than other markets and there is something in the data that, once uncovered, will allow you to make a hypothesis.\n",
    "\n",
    "The deliverable will be a storyboard. The story should begin with descriptions of the data along with a summary of the business opportunity. The rest of the story details the process of the investigation and puts the findings into context. Finally, end with some discussion and suggestions about next steps in the process."
   ]
  },
  {
   "cell_type": "markdown",
   "metadata": {
    "slideshow": {
     "slide_type": "fragment"
    }
   },
   "source": [
    " ### Data Ingestion."
   ]
  },
  {
   "cell_type": "markdown",
   "metadata": {},
   "source": [
    "Use the 'magic command' to ingest the data (performs cleaning as well). Saves cleaned data as \"aavail-target.csv\" in the data subdirectory. If the target file already exists use \"overwrite=True\" as needed  \n",
    "\n",
    "!python aavail-data-ingestor.py -d aavail-customers.db -s aavail-streams.csv\n",
    "\n",
    "cleaned_df = pd.read_csv(\"data/aavail-target.csv\")  \n",
    "cleaned_df.head()"
   ]
  },
  {
   "cell_type": "markdown",
   "metadata": {},
   "source": [
    "Alternatively, step through the code cells below."
   ]
  },
  {
   "cell_type": "code",
   "execution_count": 1,
   "metadata": {
    "slideshow": {
     "slide_type": "-"
    }
   },
   "outputs": [],
   "source": [
    "# All the imports you will need for this case study\n",
    "import os\n",
    "import pandas as pd\n",
    "import numpy as np\n",
    "import sqlite3\n",
    "\n",
    "# Specify the directory you saved the data in\n",
    "data_dir = \"data\""
   ]
  },
  {
   "cell_type": "markdown",
   "metadata": {
    "slideshow": {
     "slide_type": "slide"
    }
   },
   "source": [
    "Let's connect to this using the sqlite3 Python package with the function shown below."
   ]
  },
  {
   "cell_type": "code",
   "execution_count": 2,
   "metadata": {
    "slideshow": {
     "slide_type": "-"
    }
   },
   "outputs": [],
   "source": [
    "def connect_db(file_path):\n",
    "    try:\n",
    "        conn = sqlite3.connect(file_path)\n",
    "        print(\"...successfully connected to db\\n\")\n",
    "    except:\n",
    "        print(\"...unsuccessful connection\\n\")\n",
    "    return(conn)"
   ]
  },
  {
   "cell_type": "markdown",
   "metadata": {
    "slideshow": {
     "slide_type": "slide"
    }
   },
   "source": [
    "Let's make the connection to the database and see the table names "
   ]
  },
  {
   "cell_type": "code",
   "execution_count": 3,
   "metadata": {
    "slideshow": {
     "slide_type": "-"
    }
   },
   "outputs": [
    {
     "name": "stdout",
     "output_type": "stream",
     "text": [
      "...successfully connected to db\n",
      "\n",
      "['CUSTOMER', 'INVOICE', 'INVOICE_ITEM', 'COUNTRY']\n"
     ]
    }
   ],
   "source": [
    "# Make the connection to the database\n",
    "conn = connect_db(os.path.join(data_dir, \"aavail-customers.db\"))\n",
    "\n",
    "# Print the table names\n",
    "tables = [t[0] for t in conn.execute(\"SELECT name FROM sqlite_master WHERE type='table';\")]\n",
    "print(tables)"
   ]
  },
  {
   "cell_type": "markdown",
   "metadata": {
    "slideshow": {
     "slide_type": "slide"
    }
   },
   "source": [
    "* Now that we have extracted the relevant data from the DB, let's query the database and extract the following data into a Pandas DataFrame.\n",
    "\n",
    "      - Customer ID (integer)\n",
    "      - Last name\n",
    "      - First name\n",
    "      - DOB\n",
    "      - City\n",
    "      - State\n",
    "      - Country\n",
    "      - Gender"
   ]
  },
  {
   "cell_type": "code",
   "execution_count": 4,
   "metadata": {
    "slideshow": {
     "slide_type": "-"
    }
   },
   "outputs": [
    {
     "data": {
      "text/html": [
       "<div>\n",
       "<style scoped>\n",
       "    .dataframe tbody tr th:only-of-type {\n",
       "        vertical-align: middle;\n",
       "    }\n",
       "\n",
       "    .dataframe tbody tr th {\n",
       "        vertical-align: top;\n",
       "    }\n",
       "\n",
       "    .dataframe thead th {\n",
       "        text-align: right;\n",
       "    }\n",
       "</style>\n",
       "<table border=\"1\" class=\"dataframe\">\n",
       "  <thead>\n",
       "    <tr style=\"text-align: right;\">\n",
       "      <th></th>\n",
       "      <th>customer_id</th>\n",
       "      <th>last_name</th>\n",
       "      <th>first_name</th>\n",
       "      <th>DOB</th>\n",
       "      <th>city</th>\n",
       "      <th>state</th>\n",
       "      <th>country</th>\n",
       "      <th>gender</th>\n",
       "    </tr>\n",
       "  </thead>\n",
       "  <tbody>\n",
       "    <tr>\n",
       "      <th>0</th>\n",
       "      <td>1</td>\n",
       "      <td>Todd</td>\n",
       "      <td>Kasen</td>\n",
       "      <td>07/30/98</td>\n",
       "      <td>Rock Hill</td>\n",
       "      <td>South Carolina</td>\n",
       "      <td>united_states</td>\n",
       "      <td>m</td>\n",
       "    </tr>\n",
       "    <tr>\n",
       "      <th>1</th>\n",
       "      <td>2</td>\n",
       "      <td>Garza</td>\n",
       "      <td>Ensley</td>\n",
       "      <td>04/12/89</td>\n",
       "      <td>singapore</td>\n",
       "      <td>None</td>\n",
       "      <td>singapore</td>\n",
       "      <td>f</td>\n",
       "    </tr>\n",
       "    <tr>\n",
       "      <th>2</th>\n",
       "      <td>3</td>\n",
       "      <td>Carey</td>\n",
       "      <td>Lillian</td>\n",
       "      <td>09/12/97</td>\n",
       "      <td>Auburn</td>\n",
       "      <td>Alabama</td>\n",
       "      <td>united_states</td>\n",
       "      <td>f</td>\n",
       "    </tr>\n",
       "    <tr>\n",
       "      <th>3</th>\n",
       "      <td>4</td>\n",
       "      <td>Christensen</td>\n",
       "      <td>Beau</td>\n",
       "      <td>01/28/99</td>\n",
       "      <td>Hempstead</td>\n",
       "      <td>New York</td>\n",
       "      <td>united_states</td>\n",
       "      <td>m</td>\n",
       "    </tr>\n",
       "    <tr>\n",
       "      <th>4</th>\n",
       "      <td>5</td>\n",
       "      <td>Gibson</td>\n",
       "      <td>Ernesto</td>\n",
       "      <td>03/23/98</td>\n",
       "      <td>singapore</td>\n",
       "      <td>None</td>\n",
       "      <td>singapore</td>\n",
       "      <td>m</td>\n",
       "    </tr>\n",
       "  </tbody>\n",
       "</table>\n",
       "</div>"
      ],
      "text/plain": [
       "   customer_id    last_name first_name       DOB       city           state  \\\n",
       "0            1         Todd      Kasen  07/30/98  Rock Hill  South Carolina   \n",
       "1            2        Garza     Ensley  04/12/89  singapore            None   \n",
       "2            3        Carey    Lillian  09/12/97     Auburn         Alabama   \n",
       "3            4  Christensen       Beau  01/28/99  Hempstead        New York   \n",
       "4            5       Gibson    Ernesto  03/23/98  singapore            None   \n",
       "\n",
       "         country gender  \n",
       "0  united_states      m  \n",
       "1      singapore      f  \n",
       "2  united_states      f  \n",
       "3  united_states      m  \n",
       "4      singapore      m  "
      ]
     },
     "execution_count": 4,
     "metadata": {},
     "output_type": "execute_result"
    }
   ],
   "source": [
    "query = \"\"\"\n",
    "SELECT cu.customer_id, cu.last_name, cu.first_name, cu.DOB,\n",
    "       cu.city, cu.state, co.country_name, cu.gender\n",
    "FROM CUSTOMER cu\n",
    "INNER JOIN COUNTRY co\n",
    "ON cu.country_id = co.country_id;\n",
    "\"\"\"\n",
    "\n",
    "_data = [d for d in conn.execute(query)]\n",
    "columns = [\"customer_id\", \"last_name\", \"first_name\", \"DOB\", \"city\", \"state\", \"country\", \"gender\"]\n",
    "df_db = pd.DataFrame(_data, columns=columns)\n",
    "df_db.head()"
   ]
  },
  {
   "cell_type": "markdown",
   "metadata": {
    "slideshow": {
     "slide_type": "slide"
    }
   },
   "source": [
    "* Now that we have the data from AAVAIL db, our next steps will be to extract the relevant data from the streams CSV file.\n",
    "* For each customer_id we have to check if a customer has stopped their subscription or not and save it in a dictionary or another data container."
   ]
  },
  {
   "cell_type": "code",
   "execution_count": 5,
   "metadata": {
    "slideshow": {
     "slide_type": "notes"
    }
   },
   "outputs": [
    {
     "data": {
      "text/html": [
       "<div>\n",
       "<style scoped>\n",
       "    .dataframe tbody tr th:only-of-type {\n",
       "        vertical-align: middle;\n",
       "    }\n",
       "\n",
       "    .dataframe tbody tr th {\n",
       "        vertical-align: top;\n",
       "    }\n",
       "\n",
       "    .dataframe thead th {\n",
       "        text-align: right;\n",
       "    }\n",
       "</style>\n",
       "<table border=\"1\" class=\"dataframe\">\n",
       "  <thead>\n",
       "    <tr style=\"text-align: right;\">\n",
       "      <th></th>\n",
       "      <th>customer_id</th>\n",
       "      <th>stream_id</th>\n",
       "      <th>date</th>\n",
       "      <th>invoice_item_id</th>\n",
       "      <th>subscription_stopped</th>\n",
       "    </tr>\n",
       "  </thead>\n",
       "  <tbody>\n",
       "    <tr>\n",
       "      <th>0</th>\n",
       "      <td>1</td>\n",
       "      <td>1420.0</td>\n",
       "      <td>2018-10-21</td>\n",
       "      <td>2.0</td>\n",
       "      <td>0</td>\n",
       "    </tr>\n",
       "    <tr>\n",
       "      <th>1</th>\n",
       "      <td>1</td>\n",
       "      <td>1343.0</td>\n",
       "      <td>2018-10-23</td>\n",
       "      <td>2.0</td>\n",
       "      <td>0</td>\n",
       "    </tr>\n",
       "    <tr>\n",
       "      <th>2</th>\n",
       "      <td>1</td>\n",
       "      <td>1756.0</td>\n",
       "      <td>2018-11-05</td>\n",
       "      <td>2.0</td>\n",
       "      <td>0</td>\n",
       "    </tr>\n",
       "    <tr>\n",
       "      <th>3</th>\n",
       "      <td>1</td>\n",
       "      <td>1250.0</td>\n",
       "      <td>2018-11-06</td>\n",
       "      <td>2.0</td>\n",
       "      <td>0</td>\n",
       "    </tr>\n",
       "    <tr>\n",
       "      <th>4</th>\n",
       "      <td>1</td>\n",
       "      <td>1324.0</td>\n",
       "      <td>2018-11-12</td>\n",
       "      <td>2.0</td>\n",
       "      <td>0</td>\n",
       "    </tr>\n",
       "  </tbody>\n",
       "</table>\n",
       "</div>"
      ],
      "text/plain": [
       "   customer_id  stream_id        date  invoice_item_id  subscription_stopped\n",
       "0            1     1420.0  2018-10-21              2.0                     0\n",
       "1            1     1343.0  2018-10-23              2.0                     0\n",
       "2            1     1756.0  2018-11-05              2.0                     0\n",
       "3            1     1250.0  2018-11-06              2.0                     0\n",
       "4            1     1324.0  2018-11-12              2.0                     0"
      ]
     },
     "execution_count": 5,
     "metadata": {},
     "output_type": "execute_result"
    }
   ],
   "source": [
    "df_streams = pd.read_csv(os.path.join(data_dir, r\"aavail-streams.csv\"))\n",
    "df_streams.head()"
   ]
  },
  {
   "cell_type": "code",
   "execution_count": 6,
   "metadata": {
    "slideshow": {
     "slide_type": "slide"
    }
   },
   "outputs": [
    {
     "data": {
      "text/html": [
       "<div>\n",
       "<style scoped>\n",
       "    .dataframe tbody tr th:only-of-type {\n",
       "        vertical-align: middle;\n",
       "    }\n",
       "\n",
       "    .dataframe tbody tr th {\n",
       "        vertical-align: top;\n",
       "    }\n",
       "\n",
       "    .dataframe thead th {\n",
       "        text-align: right;\n",
       "    }\n",
       "</style>\n",
       "<table border=\"1\" class=\"dataframe\">\n",
       "  <thead>\n",
       "    <tr style=\"text-align: right;\">\n",
       "      <th></th>\n",
       "      <th>customer_id</th>\n",
       "      <th>is_subscriber</th>\n",
       "    </tr>\n",
       "  </thead>\n",
       "  <tbody>\n",
       "    <tr>\n",
       "      <th>0</th>\n",
       "      <td>1</td>\n",
       "      <td>1</td>\n",
       "    </tr>\n",
       "    <tr>\n",
       "      <th>1</th>\n",
       "      <td>2</td>\n",
       "      <td>0</td>\n",
       "    </tr>\n",
       "    <tr>\n",
       "      <th>2</th>\n",
       "      <td>3</td>\n",
       "      <td>0</td>\n",
       "    </tr>\n",
       "    <tr>\n",
       "      <th>3</th>\n",
       "      <td>4</td>\n",
       "      <td>1</td>\n",
       "    </tr>\n",
       "    <tr>\n",
       "      <th>4</th>\n",
       "      <td>5</td>\n",
       "      <td>1</td>\n",
       "    </tr>\n",
       "  </tbody>\n",
       "</table>\n",
       "</div>"
      ],
      "text/plain": [
       "   customer_id  is_subscriber\n",
       "0            1              1\n",
       "1            2              0\n",
       "2            3              0\n",
       "3            4              1\n",
       "4            5              1"
      ]
     },
     "execution_count": 6,
     "metadata": {},
     "output_type": "execute_result"
    }
   ],
   "source": [
    "customer_ids = df_streams['customer_id'].values\n",
    "unique_ids = np.unique(df_streams['customer_id'].values)\n",
    "streams = df_streams['subscription_stopped'].values\n",
    "has_churned = [0 if streams[customer_ids==uid].max() > 0 else 1 for uid in unique_ids]\n",
    "df_churn = pd.DataFrame({\"customer_id\": unique_ids,\"is_subscriber\": has_churned})\n",
    "df_churn.head()"
   ]
  },
  {
   "cell_type": "markdown",
   "metadata": {
    "slideshow": {
     "slide_type": "slide"
    }
   },
   "source": [
    "#### Exploratory Data Analysis\n",
    "\n",
    "Sometimes it is known in advance which types of data integrity issues to expect, but other times it is during the Exploratory Data Analysis (EDA) process that these issues are identified. \n",
    "\n",
    "After extracting data it is important to include checks for quality assurance even on the first pass through the AI workflow.  Let's combine the data into a single structure and provide a couple checks for quality assurance.\n",
    "\n",
    "**Implementation of checks for Quality Assurance**\n",
    "\n",
    "- Remove any repeat customers based on customer_id\n",
    "- Remove stream data that do not have an associated stream_id\n",
    "- Check for missing values"
   ]
  },
  {
   "cell_type": "code",
   "execution_count": 7,
   "metadata": {
    "slideshow": {
     "slide_type": "fragment"
    }
   },
   "outputs": [
    {
     "name": "stdout",
     "output_type": "stream",
     "text": [
      "\n",
      "Cleaning Summary\n",
      "-----------------------------------\n",
      "Removed 7 duplicate rows\n",
      "Removed 1164 missing stream ids\n",
      "\n",
      "Missing Value Summary\n",
      "-----------------------------------\n",
      "\n",
      "df_db\n",
      "---------------\n",
      "customer_id      0\n",
      "last_name        0\n",
      "first_name       0\n",
      "DOB              0\n",
      "city             0\n",
      "state          300\n",
      "country          0\n",
      "gender           0\n",
      "dtype: int64\n",
      "\n",
      "df_streams\n",
      "---------------\n",
      "customer_id             0\n",
      "stream_id               0\n",
      "date                    0\n",
      "invoice_item_id         0\n",
      "subscription_stopped    0\n",
      "dtype: int64\n"
     ]
    }
   ],
   "source": [
    "print(\"\\nCleaning Summary\\n{}\".format(\"-\"*35))\n",
    "duplicate_rows = df_db.duplicated()\n",
    "if True in duplicate_rows:\n",
    "    df_db = df_db[~duplicate_rows]\n",
    "print(\"Removed {} duplicate rows\".format(np.where(duplicate_rows==True)[0].size))\n",
    "\n",
    "missing_stream_ids = np.isnan(df_streams['stream_id'])    \n",
    "if True in missing_stream_ids:\n",
    "    df_streams = df_streams[~missing_stream_ids]\n",
    "print(\"Removed {} missing stream ids\".format(np.where(missing_stream_ids==True)[0].size))\n",
    "\n",
    "print(\"\\nMissing Value Summary\\n{}\".format(\"-\"*35))\n",
    "print(\"\\ndf_db\\n{}\".format(\"-\"*15))\n",
    "print(df_db.isnull().sum(axis = 0))\n",
    "print(\"\\ndf_streams\\n{}\".format(\"-\"*15))\n",
    "print(df_streams.isnull().sum(axis = 0))"
   ]
  },
  {
   "cell_type": "markdown",
   "metadata": {
    "slideshow": {
     "slide_type": "fragment"
    }
   },
   "source": [
    "**Combine the data into a single data structure**\n",
    "\n",
    "The two most convenient structures for this task are Pandas dataframes and NumPy arrays. At a minimum ensure that the structure accommodates the following.\n",
    "\n",
    "- A column for customer_id\n",
    "- A column for country\n",
    "- A column for age that is created from DOB\n",
    "- A column customer_name that is created from first_name and last_name\n",
    "- A column to indicate churn called is_subscriber\n",
    "- A column that indicates subscriber_type that comes from invoice_item\n",
    "- A column to indicate the total num_streams"
   ]
  },
  {
   "cell_type": "code",
   "execution_count": 8,
   "metadata": {
    "slideshow": {
     "slide_type": "notes"
    }
   },
   "outputs": [
    {
     "data": {
      "text/html": [
       "<div>\n",
       "<style scoped>\n",
       "    .dataframe tbody tr th:only-of-type {\n",
       "        vertical-align: middle;\n",
       "    }\n",
       "\n",
       "    .dataframe tbody tr th {\n",
       "        vertical-align: top;\n",
       "    }\n",
       "\n",
       "    .dataframe thead th {\n",
       "        text-align: right;\n",
       "    }\n",
       "</style>\n",
       "<table border=\"1\" class=\"dataframe\">\n",
       "  <thead>\n",
       "    <tr style=\"text-align: right;\">\n",
       "      <th></th>\n",
       "      <th>customer_id</th>\n",
       "      <th>is_subscriber</th>\n",
       "      <th>country</th>\n",
       "      <th>age</th>\n",
       "      <th>customer_name</th>\n",
       "      <th>subscriber_type</th>\n",
       "      <th>num_streams</th>\n",
       "    </tr>\n",
       "  </thead>\n",
       "  <tbody>\n",
       "    <tr>\n",
       "      <th>0</th>\n",
       "      <td>1</td>\n",
       "      <td>1</td>\n",
       "      <td>united_states</td>\n",
       "      <td>21</td>\n",
       "      <td>Kasen Todd</td>\n",
       "      <td>aavail_premium</td>\n",
       "      <td>23</td>\n",
       "    </tr>\n",
       "    <tr>\n",
       "      <th>1</th>\n",
       "      <td>2</td>\n",
       "      <td>0</td>\n",
       "      <td>singapore</td>\n",
       "      <td>30</td>\n",
       "      <td>Ensley Garza</td>\n",
       "      <td>aavail_unlimited</td>\n",
       "      <td>12</td>\n",
       "    </tr>\n",
       "    <tr>\n",
       "      <th>2</th>\n",
       "      <td>3</td>\n",
       "      <td>0</td>\n",
       "      <td>united_states</td>\n",
       "      <td>22</td>\n",
       "      <td>Lillian Carey</td>\n",
       "      <td>aavail_premium</td>\n",
       "      <td>22</td>\n",
       "    </tr>\n",
       "    <tr>\n",
       "      <th>3</th>\n",
       "      <td>4</td>\n",
       "      <td>1</td>\n",
       "      <td>united_states</td>\n",
       "      <td>20</td>\n",
       "      <td>Beau Christensen</td>\n",
       "      <td>aavail_basic</td>\n",
       "      <td>19</td>\n",
       "    </tr>\n",
       "    <tr>\n",
       "      <th>4</th>\n",
       "      <td>5</td>\n",
       "      <td>1</td>\n",
       "      <td>singapore</td>\n",
       "      <td>21</td>\n",
       "      <td>Ernesto Gibson</td>\n",
       "      <td>aavail_premium</td>\n",
       "      <td>23</td>\n",
       "    </tr>\n",
       "  </tbody>\n",
       "</table>\n",
       "</div>"
      ],
      "text/plain": [
       "   customer_id  is_subscriber        country  age     customer_name  \\\n",
       "0            1              1  united_states   21        Kasen Todd   \n",
       "1            2              0      singapore   30      Ensley Garza   \n",
       "2            3              0  united_states   22     Lillian Carey   \n",
       "3            4              1  united_states   20  Beau Christensen   \n",
       "4            5              1      singapore   21    Ernesto Gibson   \n",
       "\n",
       "    subscriber_type  num_streams  \n",
       "0    aavail_premium           23  \n",
       "1  aavail_unlimited           12  \n",
       "2    aavail_premium           22  \n",
       "3      aavail_basic           19  \n",
       "4    aavail_premium           23  "
      ]
     },
     "execution_count": 8,
     "metadata": {},
     "output_type": "execute_result"
    }
   ],
   "source": [
    "import scipy.stats as stats\n",
    "\n",
    "df_clean = df_churn.copy()\n",
    "df_clean = df_clean[np.in1d(df_clean['customer_id'].values,df_db['customer_id'].values)]\n",
    "unique_ids = df_clean['customer_id'].values\n",
    "\n",
    "# Ensure we are working with correctly ordered customer_ids df_db\n",
    "if not np.array_equal(df_clean['customer_id'],df_db['customer_id']): \n",
    "    raise Exception(\"indexes are out of order or unmatched---needs to fix\")\n",
    "\n",
    "# Query the db t0 create a invoice item map\n",
    "query = \"\"\"\n",
    "SELECT i.invoice_item_id, i.invoice_item\n",
    "FROM INVOICE_ITEM i;\n",
    "\"\"\"\n",
    "\n",
    "# Variables for new df creation\n",
    "invoice_item_map = {d[0]:d[1] for d in conn.execute(query)}\n",
    "streams_stopped = df_streams['subscription_stopped'].values\n",
    "streams_cid = df_streams['customer_id'].values\n",
    "streams_iid = df_streams['invoice_item_id'].values\n",
    "subscriber_invoice_mode = [stats.mode(streams_iid[streams_cid==uid])[0][0] for uid in unique_ids]\n",
    "\n",
    "# Create the new df\n",
    "df_clean['country'] = df_db['country']\n",
    "df_clean['age'] = np.datetime64('today') - pd.to_datetime(df_db['DOB'])\n",
    "df_clean['customer_name'] = df_db['first_name'] + \" \" + df_db['last_name']\n",
    "df_clean['subscriber_type'] = [invoice_item_map[int(sim)] for sim in subscriber_invoice_mode]\n",
    "df_clean['num_streams'] = [streams_stopped[streams_cid==uid].size for uid in unique_ids]\n",
    "\n",
    "# Convert age to days\n",
    "df_clean['age'] = [a.astype('timedelta64[Y]').astype(int) for a in df_clean['age'].values]\n",
    "\n",
    "df_clean.head()"
   ]
  },
  {
   "cell_type": "markdown",
   "metadata": {},
   "source": [
    "Check whether the script and the notebook produced the same result  \n",
    "print(cleaned_df.shape)  \n",
    "print(df_clean.shape)  \n",
    "print(cleaned_df.equals(df_clean))  "
   ]
  },
  {
   "cell_type": "markdown",
   "metadata": {
    "slideshow": {
     "slide_type": "slide"
    }
   },
   "source": [
    "#### Investigative Visualization\n",
    "\n",
    "Data visualization is the discipline of trying to understand data by placing it in a visual context so that patterns, trends and correlations that might not otherwise be detected can be exposed. The tables we just created above are difficult to navigate and it can be useful to use a simple plot to summarize the data. It is possible that both a table and a plot might be needed to communicate the findings and one common practice is to include an appendix in the deliverable. \n",
    "\n",
    "The goal here is to see what factors are influencing the Singapore situation and let's start by analyzing these factors."
   ]
  },
  {
   "cell_type": "code",
   "execution_count": 9,
   "metadata": {
    "slideshow": {
     "slide_type": "fragment"
    }
   },
   "outputs": [],
   "source": [
    "# Import data visualization packages\n",
    "import matplotlib.pyplot as plt\n",
    "import seaborn as sns\n",
    "%matplotlib inline"
   ]
  },
  {
   "cell_type": "code",
   "execution_count": 10,
   "metadata": {},
   "outputs": [
    {
     "name": "stdout",
     "output_type": "stream",
     "text": [
      "country        singapore  united_states\n",
      "is_subscriber                          \n",
      "0                    181            108\n",
      "1                    119            592\n"
     ]
    }
   ],
   "source": [
    "print(pd.crosstab(df_clean.is_subscriber, df_clean.country))"
   ]
  },
  {
   "cell_type": "markdown",
   "metadata": {
    "slideshow": {
     "slide_type": "fragment"
    }
   },
   "source": [
    "The values above show that there are 181 non-subscribers in the Singapore and 108 in US and there are 119 subscribers in Singapore and 592 in US. We can understand that there are more subscribers in the US than in Singapore."
   ]
  },
  {
   "cell_type": "code",
   "execution_count": 11,
   "metadata": {},
   "outputs": [
    {
     "data": {
      "image/png": "[encoded data removed]",
      "text/plain": [
       "<Figure size 679.5x288 with 1 Axes>"
      ]
     },
     "metadata": {
      "needs_background": "light"
     },
     "output_type": "display_data"
    }
   ],
   "source": [
    "# Create a new temporary dataframe to help us plot these variables.\n",
    "df1 = pd.melt(df_clean, id_vars=['is_subscriber'], value_vars=[\"country\"],\n",
    "              var_name='country' )\n",
    "\n",
    "# Create a factorplot\n",
    "g = sns.catplot( x=\"country\", y=\"is_subscriber\", hue='value', data=df1,\n",
    "                   height=4, aspect=2, kind=\"bar\", palette=\"husl\", ci=None )\n",
    "g.despine(left=True)\n",
    "g.set_ylabels(\"Is_Subscriber\")\n",
    "plt.show()"
   ]
  },
  {
   "cell_type": "markdown",
   "metadata": {
    "slideshow": {
     "slide_type": "fragment"
    }
   },
   "source": [
    "Most features have a wider range of numbers, not just 0 or 1. So for those it makes sense to look at how the distribution of the data differs for the people that are non-subscribers and the people that are subscribers. Let's add more dimensions in the data and see how what exactly is going on in Singapore."
   ]
  },
  {
   "cell_type": "code",
   "execution_count": 12,
   "metadata": {},
   "outputs": [
    {
     "data": {
      "image/png": "[encoded data removed]",
      "text/plain": [
       "<Figure size 1008x432 with 1 Axes>"
      ]
     },
     "metadata": {
      "needs_background": "light"
     },
     "output_type": "display_data"
    }
   ],
   "source": [
    "fig = plt.figure(figsize=(14,6))\n",
    "ax1 = fig.add_subplot(121)\n",
    "\n",
    "table1 = pd.pivot_table(df_clean, index = ['country', 'subscriber_type'], values = 'is_subscriber')\n",
    "table1.plot(kind='barh',ax=ax1)\n",
    "ax1.set_xlabel(\"is_subscriber\");"
   ]
  },
  {
   "cell_type": "markdown",
   "metadata": {
    "slideshow": {
     "slide_type": "fragment"
    }
   },
   "source": [
    "From the analysis above we can see that the number of `unlimited` subscribers in Singapore is rather low as compared to premium and basic subscribers. Perhaps the basic subscribers in Singapore are more likely to churn."
   ]
  },
  {
   "cell_type": "code",
   "execution_count": 13,
   "metadata": {},
   "outputs": [
    {
     "name": "stderr",
     "output_type": "stream",
     "text": [
      "C:\\Users\\Michael\\Anaconda3\\lib\\site-packages\\seaborn\\categorical.py:3666: UserWarning: The `factorplot` function has been renamed to `catplot`. The original name will be removed in a future release. Please update your code. Note that the default `kind` in `factorplot` (`'point'`) has changed `'strip'` in `catplot`.\n",
      "  warnings.warn(msg)\n",
      "C:\\Users\\Michael\\Anaconda3\\lib\\site-packages\\seaborn\\categorical.py:3672: UserWarning: The `size` paramter has been renamed to `height`; please update your code.\n",
      "  warnings.warn(msg, UserWarning)\n"
     ]
    },
    {
     "data": {
      "image/png": "[encoded data removed]",
      "text/plain": [
       "<Figure size 576x288 with 1 Axes>"
      ]
     },
     "metadata": {
      "needs_background": "light"
     },
     "output_type": "display_data"
    }
   ],
   "source": [
    "# Create a factorplot\n",
    "j = sns.factorplot( x=\"is_subscriber\", y=\"num_streams\", data=df_clean, size=4, aspect=2, kind=\"bar\", palette= \"hls\", ci=None )\n",
    "j.despine(left=True)\n",
    "j.set_ylabels(\"num_streams\")\n",
    "plt.show()"
   ]
  },
  {
   "cell_type": "markdown",
   "metadata": {},
   "source": [
    "The above analysis shows the average `num_streams` among current subscribers and non-subscribers. This information is not enough and we will need to create an age distribution for different countries. Let's analyze `num_streams` for different countries."
   ]
  },
  {
   "cell_type": "code",
   "execution_count": 14,
   "metadata": {
    "slideshow": {
     "slide_type": "notes"
    }
   },
   "outputs": [
    {
     "data": {
      "image/png": "[encoded data removed]",
      "text/plain": [
       "<Figure size 1008x432 with 1 Axes>"
      ]
     },
     "metadata": {
      "needs_background": "light"
     },
     "output_type": "display_data"
    }
   ],
   "source": [
    "fig = plt.figure(figsize=(14,6))\n",
    "ax1 = fig.add_subplot(121)\n",
    "table2 = df_clean.pivot_table('num_streams', index='country', columns='is_subscriber')\n",
    "table2.plot(kind='barh',ax=ax1)\n",
    "ax1.set_xlabel(\"num_streams\");"
   ]
  },
  {
   "cell_type": "markdown",
   "metadata": {
    "slideshow": {
     "slide_type": "notes"
    }
   },
   "source": [
    "The analysis above shows that both subscribers and non-subscribers have approximately 15.0 number of streams in Singapore. s such it may not be an important feature but we need to perform more data analysis to prove that."
   ]
  },
  {
   "cell_type": "code",
   "execution_count": 15,
   "metadata": {},
   "outputs": [
    {
     "data": {
      "image/png": "[encoded data removed]",
      "text/plain": [
       "<Figure size 1008x432 with 1 Axes>"
      ]
     },
     "metadata": {
      "needs_background": "light"
     },
     "output_type": "display_data"
    }
   ],
   "source": [
    "fig = plt.figure(figsize=(14,6))\n",
    "ax1 = fig.add_subplot(121)\n",
    "table3 = df_clean.pivot_table('age', index='country', columns='is_subscriber')\n",
    "table3.plot(kind='barh',ax=ax1)\n",
    "ax1.set_xlabel(\"age\");"
   ]
  },
  {
   "cell_type": "markdown",
   "metadata": {},
   "source": [
    "The analysis above shows that the average age of both subscribers and non-subscribers is almost 25 years of age in Singapore. This gives us an important insight to analyze the average age for each subscriber_type."
   ]
  },
  {
   "cell_type": "code",
   "execution_count": 16,
   "metadata": {},
   "outputs": [
    {
     "data": {
      "image/png": "[encoded data removed]",
      "text/plain": [
       "<Figure size 1008x432 with 1 Axes>"
      ]
     },
     "metadata": {
      "needs_background": "light"
     },
     "output_type": "display_data"
    }
   ],
   "source": [
    "fig = plt.figure(figsize=(14,6))\n",
    "ax1 = fig.add_subplot(121)\n",
    "table4 = df_clean.pivot_table('age', index=['country','subscriber_type'], columns='is_subscriber')\n",
    "table4.plot(kind='barh',ax=ax1)\n",
    "ax1.set_xlabel(\"age\");"
   ]
  },
  {
   "cell_type": "markdown",
   "metadata": {},
   "source": [
    "We can see that the average age among basic subscribers is higher than 25 and for premium subscribers it is approximately 22. For unlimited subscribers the average age is higher than 25 in Singapore. From this analysis we can infer that the average age for basic subscribers and unlimited subscribers in Singapore is less than, or equal to, 25."
   ]
  },
  {
   "cell_type": "code",
   "execution_count": 17,
   "metadata": {},
   "outputs": [
    {
     "data": {
      "image/png": "[encoded data removed]",
      "text/plain": [
       "<Figure size 540x540 with 12 Axes>"
      ]
     },
     "metadata": {},
     "output_type": "display_data"
    }
   ],
   "source": [
    "import seaborn as sns\n",
    "sns.set(style=\"ticks\", color_codes=True)\n",
    "\n",
    "## make a pair plot\n",
    "columns = ['is_subscriber', 'num_streams', 'age']\n",
    "\n",
    "axes = sns.pairplot(df_clean, vars=columns, palette=\"husl\")"
   ]
  },
  {
   "cell_type": "markdown",
   "metadata": {
    "slideshow": {
     "slide_type": "slide"
    }
   },
   "source": [
    "### Findings from the analysis of our Features\n",
    "\n",
    "**The goal of our data analysis is to find factors that are influencing the Singapore situation**\n",
    "\n",
    "Here are some of the findings of the data analysis:\n",
    "\n",
    "- There are more subscribers in the US than in Singapore.\n",
    "- The number of unlimited subscribers in Singapore is low compared to premium and basic subscribers.\n",
    "- The basic subscribers in Singapore are more prone to churn out soon compared to premium and unlimited.\n",
    "- Both the subscribers and non-subscribers have approximately 15.0 number of streams in Singapore.\n",
    "- The average age of both subscribers and non-subscribers is almost 25 years of age in Singapore\n",
    "- The average age for basic subscribers and unlimited subscribers in Singapore <= 25.\n",
    "    "
   ]
  },
  {
   "cell_type": "markdown",
   "metadata": {
    "slideshow": {
     "slide_type": "slide"
    }
   },
   "source": [
    "### Next Steps\n",
    "\n",
    "From the findings abover we can surmise that some of the important factors influencing our goal are `subscriber_type`, `age` `and` location but our findings do not provide any specific or deep insights on the underlying factors.\n",
    "\n",
    "Some of the next steps that can be performed are:\n",
    "* Deep Dive Data analysis on each feature - We can use PCA (Principal Component Analysis) to explore the variations in variables.\n",
    "* Hypothesis testing  - We can hypothesize each feature and it's importance.\n",
    "* We can also calculate multiple types of aggregations for any given feature for better data explorations."
   ]
  },
  {
   "cell_type": "code",
   "execution_count": null,
   "metadata": {},
   "outputs": [],
   "source": []
  }
 ],
 "metadata": {
  "celltoolbar": "Slideshow",
  "kernelspec": {
   "display_name": "Python 3",
   "language": "python",
   "name": "python3"
  },
  "language_info": {
   "codemirror_mode": {
    "name": "ipython",
    "version": 3
   },
   "file_extension": ".py",
   "mimetype": "text/x-python",
   "name": "python",
   "nbconvert_exporter": "python",
   "pygments_lexer": "ipython3",
   "version": "3.6.5"
  },
  "rise": {
   "autolaunch": true,
   "enable_chalkboard": true,
   "theme": "night"
  }
 },
 "nbformat": 4,
 "nbformat_minor": 4
}
